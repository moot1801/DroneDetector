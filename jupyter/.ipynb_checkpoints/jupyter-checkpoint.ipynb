{
 "cells": [
  {
   "cell_type": "code",
   "execution_count": 1,
   "id": "038c02dd",
   "metadata": {},
   "outputs": [],
   "source": [
    "import torch\n",
    "import torchvision\n",
    "import torch.nn as nn                           # All neural network modules, nn.Linear, nn.Conv2d, BatchNorm, Loss functions\n",
    "import torch.optim as optim                     # For all Optimization algorithms, SGD, Adam, etc.\n",
    "import torch.nn.functional as F                 # All functions that don't have any parameters\n",
    "from torch.utils.data import DataLoader         # Gives easier dataset managment and creates mini batches\n",
    "import torchvision.datasets as datasets         # Has standard datasets we can import in a nice way\n",
    "import torchvision.transforms as transforms"
   ]
  },
  {
   "cell_type": "code",
   "execution_count": null,
   "id": "9008484f",
   "metadata": {},
   "outputs": [],
   "source": [
    "import torch\n",
    "import torchvision.models as models\n",
    "\n",
    "# 1. SqueezeNet 모델 불러오기 (pretrained weights 사용)\n",
    "model = models.squeezenet1_0(weights=\"IMAGENET1K_V1\")  # 최신 torchvision\n",
    "# 만약 구버전(0.13 미만)에서는 pretrained=True 로 사용\n",
    "# model = models.squeezenet1_0(pretrained=True)\n",
    "\n",
    "# 2. 평가 모드로 전환 (inference시)\n",
    "model.eval()\n",
    "\n",
    "# 3. 임의 입력 텐서 준비 (batch_size=1, 3채널, 224x224 이미지)\n",
    "x = torch.randn(1, 3, 224, 224)\n",
    "\n",
    "# 4. 모델 추론\n",
    "with torch.no_grad():\n",
    "    output = model(x)\n",
    "\n",
    "print(\"Output shape:\", output.shape)  # [1, 1000] (ImageNet 클래스 1000개)\n"
   ]
  }
 ],
 "metadata": {
  "kernelspec": {
   "display_name": "Python 3",
   "language": "python",
   "name": "python3"
  },
  "language_info": {
   "codemirror_mode": {
    "name": "ipython",
    "version": 3
   },
   "file_extension": ".py",
   "mimetype": "text/x-python",
   "name": "python",
   "nbconvert_exporter": "python",
   "pygments_lexer": "ipython3",
   "version": "3.6.8"
  }
 },
 "nbformat": 4,
 "nbformat_minor": 5
}
