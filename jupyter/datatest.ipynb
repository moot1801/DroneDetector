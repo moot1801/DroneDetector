{
 "cells": [
  {
   "cell_type": "code",
   "execution_count": null,
   "id": "bc535ae5-fe47-4778-ab36-2f3b6f60c897",
   "metadata": {},
   "outputs": [],
   "source": [
    "import h5py\n"
   ]
  },
  {
   "cell_type": "code",
   "execution_count": null,
   "id": "fefe4346-7d82-4733-b70d-40c7e3994197",
   "metadata": {},
   "outputs": [],
   "source": [
    "import h5py\n",
    "\n",
    "file_path = r\"C:\\AIEEE\\DATASET\\CARDRF\\LOS\\Test\\UAV\\BEEBEERUN\\FLYING\\BEEBEERUN_0000100002.mat\"\n",
    "\n",
    "with h5py.File(file_path, 'r') as f:\n",
    "    print(\"최상위 키 목록:\", list(f.keys()))\n",
    "\n",
    "    # 각 키 내부 구조 살펴보기\n",
    "    for key in f.keys():\n",
    "        print(f\"\\n[{key}] 내부 구조:\")\n",
    "        try:\n",
    "            obj = f[key]\n",
    "            if isinstance(obj, h5py.Group):\n",
    "                print(\"  Group 하위 키:\", list(obj.keys()))\n",
    "            elif isinstance(obj, h5py.Dataset):\n",
    "                print(\"  Dataset shape:\", obj.shape)\n",
    "        except Exception as e:\n",
    "            print(\"  오류 발생:\", e)\n"
   ]
  },
  {
   "cell_type": "code",
   "execution_count": null,
   "id": "a4afcb94-7a47-4148-8cb4-7ffc0a31b19f",
   "metadata": {},
   "outputs": [],
   "source": [
    "with h5py.File(file_path, 'r') as f:\n",
    "    print(f['Channel_1'].keys())"
   ]
  },
  {
   "cell_type": "code",
   "execution_count": 24,
   "id": "cbe5b16d-f81e-4ca7-a4b1-bc3b37a3e03b",
   "metadata": {},
   "outputs": [
    {
     "name": "stdout",
     "output_type": "stream",
     "text": [
      "최상위 키 목록: ['#refs#', 'Channel_1', 'Frame']\n",
      "\n",
      "🔍 키: #refs#\n",
      "  타입: <class 'h5py._hl.group.Group'>\n",
      "  그룹 내부 키: ['a']\n",
      "  값 접근 실패: Accessing a group is done with bytes or str, not <class 'tuple'>\n",
      "\n",
      "🔍 키: Channel_1\n",
      "  타입: <class 'h5py._hl.group.Group'>\n",
      "  그룹 내부 키: ['Data', 'NumPoints', 'NumSegments', 'WaveformType', 'XData', 'XDispOrigin', 'XDispRange', 'XInc', 'XOrg', 'XUnits', 'YDispOrigin', 'YDispRange', 'YInc', 'YOrg', 'YUnits']\n",
      "  값 접근 실패: Accessing a group is done with bytes or str, not <class 'tuple'>\n",
      "\n",
      "🔍 키: Frame\n",
      "  타입: <class 'h5py._hl.group.Group'>\n",
      "  그룹 내부 키: ['Date', 'Model', 'Serial']\n",
      "  값 접근 실패: Accessing a group is done with bytes or str, not <class 'tuple'>\n"
     ]
    }
   ],
   "source": [
    "import h5py\n",
    "\n",
    "file_path = r\"C:\\AIEEE\\DATASET\\CARDRF\\LOS\\Test\\UAV\\BEEBEERUN\\FLYING\\BEEBEERUN_0000100002.mat\"\n",
    "\n",
    "with h5py.File(file_path, 'r') as f:\n",
    "    print(\"최상위 키 목록:\", list(f.keys()))\n",
    "    \n",
    "    for key in f.keys():\n",
    "        print(f\"\\n🔍 키: {key}\")\n",
    "        obj = f[key]\n",
    "        print(\"  타입:\", type(obj))\n",
    "        if isinstance(obj, h5py.Group):\n",
    "            print(\"  그룹 내부 키:\", list(obj.keys()))\n",
    "        elif isinstance(obj, h5py.Dataset):\n",
    "            print(\"  데이터셋 shape:\", obj.shape)\n",
    "        else:\n",
    "            print(\"  다른 타입 또는 참조일 수 있음\")\n",
    "\n",
    "        # 참조 확인\n",
    "        try:\n",
    "            val = obj[()]\n",
    "            print(\"  추출된 값/참조 타입:\", type(val))\n",
    "        except Exception as e:\n",
    "            print(\"  값 접근 실패:\", e)\n"
   ]
  },
  {
   "cell_type": "code",
   "execution_count": 26,
   "id": "0d769f3c-5ac7-43bc-8452-45058873980c",
   "metadata": {},
   "outputs": [
    {
     "name": "stdout",
     "output_type": "stream",
     "text": [
      "🔹 #refs# → <class 'h5py._hl.group.Group'>\n",
      "  🔹 a → <class 'h5py._hl.dataset.Dataset'>\n",
      "    shape: (2,), dtype: uint64\n",
      "🔹 Channel_1 → <class 'h5py._hl.group.Group'>\n",
      "  🔹 Data → <class 'h5py._hl.dataset.Dataset'>\n",
      "    shape: (1, 5000000), dtype: int16\n",
      "  🔹 NumPoints → <class 'h5py._hl.dataset.Dataset'>\n",
      "    shape: (1, 1), dtype: float64\n",
      "  🔹 NumSegments → <class 'h5py._hl.dataset.Dataset'>\n",
      "    shape: (1, 1), dtype: float64\n",
      "  🔹 WaveformType → <class 'h5py._hl.dataset.Dataset'>\n",
      "    shape: (6, 1), dtype: uint16\n",
      "  🔹 XData → <class 'h5py._hl.dataset.Dataset'>\n",
      "    shape: (2,), dtype: uint64\n",
      "  🔹 XDispOrigin → <class 'h5py._hl.dataset.Dataset'>\n",
      "    shape: (1, 1), dtype: float64\n",
      "  🔹 XDispRange → <class 'h5py._hl.dataset.Dataset'>\n",
      "    shape: (1, 1), dtype: float64\n",
      "  🔹 XInc → <class 'h5py._hl.dataset.Dataset'>\n",
      "    shape: (1, 1), dtype: float64\n",
      "  🔹 XOrg → <class 'h5py._hl.dataset.Dataset'>\n",
      "    shape: (1, 1), dtype: float64\n",
      "  🔹 XUnits → <class 'h5py._hl.dataset.Dataset'>\n",
      "    shape: (6, 1), dtype: uint16\n",
      "  🔹 YDispOrigin → <class 'h5py._hl.dataset.Dataset'>\n",
      "    shape: (1, 1), dtype: float64\n",
      "  🔹 YDispRange → <class 'h5py._hl.dataset.Dataset'>\n",
      "    shape: (1, 1), dtype: float64\n",
      "  🔹 YInc → <class 'h5py._hl.dataset.Dataset'>\n",
      "    shape: (1, 1), dtype: float64\n",
      "  🔹 YOrg → <class 'h5py._hl.dataset.Dataset'>\n",
      "    shape: (1, 1), dtype: float64\n",
      "  🔹 YUnits → <class 'h5py._hl.dataset.Dataset'>\n",
      "    shape: (4, 1), dtype: uint16\n",
      "🔹 Frame → <class 'h5py._hl.group.Group'>\n",
      "  🔹 Date → <class 'h5py._hl.dataset.Dataset'>\n",
      "    shape: (20, 1), dtype: uint16\n",
      "  🔹 Model → <class 'h5py._hl.dataset.Dataset'>\n",
      "    shape: (8, 1), dtype: uint16\n",
      "  🔹 Serial → <class 'h5py._hl.dataset.Dataset'>\n",
      "    shape: (10, 1), dtype: uint16\n"
     ]
    }
   ],
   "source": [
    "def explore_all(f, indent=0):\n",
    "    for key in f:\n",
    "        try:\n",
    "            item = f[key]\n",
    "            print(\"  \" * indent + f\"🔹 {key} → {type(item)}\")\n",
    "            if isinstance(item, h5py.Group):\n",
    "                explore_all(item, indent + 1)\n",
    "            elif isinstance(item, h5py.Dataset):\n",
    "                print(\"  \" * (indent+1) + f\"shape: {item.shape}, dtype: {item.dtype}\")\n",
    "        except Exception as e:\n",
    "            print(\"  \" * indent + f\"⚠️ {key} 접근 오류: {e}\")\n",
    "\n",
    "with h5py.File(file_path, 'r') as f:\n",
    "    explore_all(f)"
   ]
  },
  {
   "cell_type": "code",
   "execution_count": 30,
   "id": "d5799f03-3bc1-483f-b3cc-ff943418a67e",
   "metadata": {},
   "outputs": [
    {
     "name": "stdout",
     "output_type": "stream",
     "text": [
      "'Channel_1' 타입: <class 'h5py._hl.group.Group'>\n",
      "Channel_1 내부 키들: ['Data', 'NumPoints', 'NumSegments', 'WaveformType', 'XData', 'XDispOrigin', 'XDispRange', 'XInc', 'XOrg', 'XUnits', 'YDispOrigin', 'YDispRange', 'YInc', 'YOrg', 'YUnits']\n",
      "\n",
      "▶ 첫 번째 키: Data\n",
      "타입: <class 'h5py._hl.dataset.Dataset'>\n",
      "데이터 shape: (1, 5000000)\n",
      "예시 값: [[ -1644  -1208  -1032 ...   6948 -24552 -32736]]\n"
     ]
    }
   ],
   "source": [
    "import h5py\n",
    "\n",
    "file_path = r\"C:\\AIEEE\\DATASET\\CARDRF\\LOS\\Test\\UAV\\BEEBEERUN\\FLYING\\BEEBEERUN_0000100002.mat\"\n",
    "\n",
    "with h5py.File(file_path, \"r\") as f:\n",
    "    # 'Channel_1'이 Group인지 확인\n",
    "    print(f\"'Channel_1' 타입:\", type(f['Channel_1']))\n",
    "\n",
    "    # 내부 키 확인\n",
    "    channel_group = f['Channel_1']\n",
    "    print(\"Channel_1 내부 키들:\", list(channel_group.keys()))\n",
    "\n",
    "    # 첫 번째 내부 키 살펴보기\n",
    "    first_key = list(channel_group.keys())[0]\n",
    "    print(f\"\\n▶ 첫 번째 키: {first_key}\")\n",
    "    print(\"타입:\", type(channel_group[first_key]))\n",
    "\n",
    "    # 데이터셋이면 shape 확인\n",
    "    if isinstance(channel_group[first_key], h5py.Dataset):\n",
    "        print(\"데이터 shape:\", channel_group[first_key].shape)\n",
    "        print(\"예시 값:\", channel_group[first_key][0:5])\n"
   ]
  },
  {
   "cell_type": "code",
   "execution_count": 44,
   "id": "d16bca12-335b-43b8-bec4-7cd9911984ff",
   "metadata": {},
   "outputs": [],
   "source": [
    "import numpy as np\n",
    "import h5py\n",
    "\n",
    "def print_all_datasets(h5group, path=\"/\"):\n",
    "    for key in h5group:\n",
    "        item = h5group[key]\n",
    "        current_path = path + key\n",
    "        if isinstance(item, h5py.Group):\n",
    "            # 그룹이면 재귀 탐색\n",
    "            print_all_datasets(item, current_path + \"/\")\n",
    "        elif isinstance(item, h5py.Dataset):\n",
    "            # 데이터셋이면 출력\n",
    "            print(f\"📁 Dataset: {current_path}\")\n",
    "            print(f\"   └ Shape: {item.shape}, Dtype: {item.dtype}\")"
   ]
  },
  {
   "cell_type": "code",
   "execution_count": 45,
   "id": "c3ea62d8-eb4a-4029-ac3f-42274f2aecb9",
   "metadata": {},
   "outputs": [
    {
     "name": "stdout",
     "output_type": "stream",
     "text": [
      "🔍 모든 Dataset 목록:\n",
      "📁 Dataset: /#refs#/a\n",
      "   └ Shape: (2,), Dtype: uint64\n",
      "📁 Dataset: /Channel_1/Data\n",
      "   └ Shape: (1, 5000000), Dtype: int16\n",
      "📁 Dataset: /Channel_1/NumPoints\n",
      "   └ Shape: (1, 1), Dtype: float64\n",
      "📁 Dataset: /Channel_1/NumSegments\n",
      "   └ Shape: (1, 1), Dtype: float64\n",
      "📁 Dataset: /Channel_1/WaveformType\n",
      "   └ Shape: (6, 1), Dtype: uint16\n",
      "📁 Dataset: /Channel_1/XData\n",
      "   └ Shape: (2,), Dtype: uint64\n",
      "📁 Dataset: /Channel_1/XDispOrigin\n",
      "   └ Shape: (1, 1), Dtype: float64\n",
      "📁 Dataset: /Channel_1/XDispRange\n",
      "   └ Shape: (1, 1), Dtype: float64\n",
      "📁 Dataset: /Channel_1/XInc\n",
      "   └ Shape: (1, 1), Dtype: float64\n",
      "📁 Dataset: /Channel_1/XOrg\n",
      "   └ Shape: (1, 1), Dtype: float64\n",
      "📁 Dataset: /Channel_1/XUnits\n",
      "   └ Shape: (6, 1), Dtype: uint16\n",
      "📁 Dataset: /Channel_1/YDispOrigin\n",
      "   └ Shape: (1, 1), Dtype: float64\n",
      "📁 Dataset: /Channel_1/YDispRange\n",
      "   └ Shape: (1, 1), Dtype: float64\n",
      "📁 Dataset: /Channel_1/YInc\n",
      "   └ Shape: (1, 1), Dtype: float64\n",
      "📁 Dataset: /Channel_1/YOrg\n",
      "   └ Shape: (1, 1), Dtype: float64\n",
      "📁 Dataset: /Channel_1/YUnits\n",
      "   └ Shape: (4, 1), Dtype: uint16\n",
      "📁 Dataset: /Frame/Date\n",
      "   └ Shape: (20, 1), Dtype: uint16\n",
      "📁 Dataset: /Frame/Model\n",
      "   └ Shape: (8, 1), Dtype: uint16\n",
      "📁 Dataset: /Frame/Serial\n",
      "   └ Shape: (10, 1), Dtype: uint16\n"
     ]
    }
   ],
   "source": [
    "file_path = r\"C:\\AIEEE\\DATASET\\CARDRF\\LOS\\Test\\UAV\\BEEBEERUN\\FLYING\\BEEBEERUN_0000100002.mat\"\n",
    "\n",
    "with h5py.File(file_path, \"r\") as f:\n",
    "    print(\"🔍 모든 Dataset 목록:\")\n",
    "    print_all_datasets(f)\n"
   ]
  },
  {
   "cell_type": "code",
   "execution_count": 47,
   "id": "be4d1977-fa50-4696-9ddc-acb60854bfe7",
   "metadata": {},
   "outputs": [
    {
     "name": "stdout",
     "output_type": "stream",
     "text": [
      "📈 신호 길이: (5000000,)\n",
      "📛 모델명: MSOS604A\n",
      "시리얼 넘버 MY55510227\n"
     ]
    }
   ],
   "source": [
    "with h5py.File(file_path, 'r') as f:\n",
    "    # 1. 신호 데이터 불러오기\n",
    "    signal = f['/Channel_1/Data'][0]  # shape: (5000000,)\n",
    "    \n",
    "    # 2. 프레임 정보 (라벨처럼 활용할 수도 있음)\n",
    "    model_raw = f['/Frame/Model'][:]     # uint16 배열\n",
    "    model_name = ''.join([chr(c[0]) for c in model_raw])  # 문자열로 디코딩\n",
    "    serial_raw = f['/Frame/Serial'][:]\n",
    "    serial_name = ''.join([chr(c[0]) for c in serial_raw])  \n",
    "    print(\"📈 신호 길이:\", signal.shape)\n",
    "    print(\"📛 모델명:\", model_name)\n",
    "    print(\"시리얼 넘버\", serial_name)"
   ]
  },
  {
   "cell_type": "code",
   "execution_count": 71,
   "id": "5e6057ce-6ef4-49e6-9b2f-2b5c9bf32cda",
   "metadata": {},
   "outputs": [
    {
     "name": "stdout",
     "output_type": "stream",
     "text": [
      "X축 단위: Second\n",
      "y축 단위: Volt\n"
     ]
    },
    {
     "data": {
      "image/png": "[encoded data removed]",
      "text/plain": [
       "<Figure size 1200x400 with 1 Axes>"
      ]
     },
     "metadata": {},
     "output_type": "display_data"
    }
   ],
   "source": [
    "import matplotlib.pyplot as plt\n",
    "\n",
    "file_path = r\"C:\\AIEEE\\DATASET\\CARDRF\\LOS\\Test\\UAV\\BEEBEERUN\\FLYING\\BEEBEERUN_0000100002.mat\"\n",
    "\n",
    "def drowGraph(file_path):\n",
    "    with h5py.File(file_path, 'r') as f:\n",
    "        # Y축 신호 데이터\n",
    "        y = f['/Channel_1/Data'][0]  # shape: (5000000,)\n",
    "    \n",
    "        # X축 설정 값들\n",
    "        x_origin = f['/Channel_1/XOrg'][0][0]      # float64\n",
    "        x_inc = f['/Channel_1/XInc'][0][0]         # float64\n",
    "        x_disp_range = f['/Channel_1/XDispRange'][0][0]  # float64\n",
    "    \n",
    "        # X축 시간 벡터 생성\n",
    "        x = np.arange(len(y)) * x_inc + x_origin\n",
    "    \n",
    "        # X 단위 추출\n",
    "        x_unit_raw = f['/Channel_1/XUnits'][:]  # 예: (6, 1)\n",
    "        x_unit = ''.join(chr(c[0]) for c in x_unit_raw)\n",
    "        print(\"X축 단위:\", x_unit)\n",
    "        y_unit_raw = f['/Channel_1/YUnits'][:]\n",
    "        y_unit = ''.join(chr(c[0]) for c in y_unit_raw)\n",
    "        print(\"y축 단위:\",y_unit)\n",
    "    # 시각화 (앞부분만)\n",
    "    plt.figure(figsize=(12, 4))\n",
    "    plt.plot(x[:10000], y[:10000])\n",
    "    plt.title(\"RF Signal\")\n",
    "    plt.xlabel(x_unit)\n",
    "    plt.ylabel(y_unit)\n",
    "    plt.grid(True)\n",
    "    plt.tight_layout()\n",
    "    plt.show()\n",
    "\n",
    "drowGraph(file_path)"
   ]
  },
  {
   "cell_type": "code",
   "execution_count": 87,
   "id": "b564cebf-3121-4d7d-8b06-5fcb298523f1",
   "metadata": {},
   "outputs": [
    {
     "name": "stdout",
     "output_type": "stream",
     "text": [
      "Second\n"
     ]
    }
   ],
   "source": [
    "file_path = r\"C:\\AIEEE\\DATASET\\CARDRF\\LOS\\Test\\UAV\\DJI_MAVICPRO\\HOVERING\\MAVICPRO_10M_HOVERING00004.mat\"\n",
    "f = h5py.File(file_path, 'r')\n",
    "x_unit_raw = f['/Channel_1/XUnits'][:]\n",
    "x_unit = ''.join([chr(c[0]) for c in x_unit_raw])\n",
    "print(x_unit)"
   ]
  },
  {
   "cell_type": "code",
   "execution_count": null,
   "id": "074ad282-92b6-4c20-a014-d5456a6bc601",
   "metadata": {},
   "outputs": [
    {
     "name": "stdout",
     "output_type": "stream",
     "text": [
      "y [[ 0.05859865  0.2089009   0.2089009  ... -0.2089009  -0.09180894\n",
      "   0.09057113]]\n",
      "x [[-0.000125 -0.000125 -0.000125 ...  0.000125  0.000125  0.000125]]\n",
      "X축 단위: Second\n",
      "y축 단위: Volt\n"
     ]
    }
   ],
   "source": [
    "import numpy as np\n",
    "import matplotlib.pyplot as plt\n",
    "import h5py\n",
    "file_path = r\"C:\\AIEEE\\DATASET\\CARDRF\\LOS\\Test\\UAV\\DJI_MAVICPRO\\HOVERING\\MAVICPRO_10M_HOVERING00004.mat\"\n",
    "file_path = file_path.replace(\"\\\\\", \"/\")\n",
    "\n",
    "with h5py.File(file_path, 'r') as f:\n",
    "    # Y축 신호 데이터\n",
    "    data = np.array(f['/Channel_1/Data'][:])  # shape: (5000000,)\n",
    "    yinc = np.array(f['/Channel_1/YInc'][:])\n",
    "    yorg = np.array(f['/Channel_1/YOrg'][:])\n",
    "    y = yinc * data + yorg\n",
    "    print(\"y\", y)\n",
    "    x_origin = np.array(f['/Channel_1/XOrg'][:])      # float64\n",
    "    x_inc = np.array(f['/Channel_1/XInc'][:])         # float64\n",
    "    #x_disp_range = f['/Channel_1/XDispRange'][0][0]  # float64\n",
    "\n",
    "    # X축 시간 벡터 생성\n",
    "    x = np.arange(len(data[0])) * x_inc + x_origin\n",
    "    print(\"x\", x)\n",
    "    # X 단위 추출\n",
    "    x_unit_raw = f['/Channel_1/XUnits'][:]  # 예: (6, 1)\n",
    "    x_unit = ''.join(chr(c[0]) for c in x_unit_raw)\n",
    "    print(\"X축 단위:\", x_unit)\n",
    "    y_unit_raw = f['/Channel_1/YUnits'][:]\n",
    "    y_unit = ''.join(chr(c[0]) for c in y_unit_raw)\n",
    "    print(\"y축 단위:\",y_unit)\n",
    "# 시각화 (앞부분만)\n",
    "plt.figure(figsize=(12, 4))\n",
    "plt.plot(x[:10000], y[:10000])\n",
    "plt.title(\"RF Signal\")\n",
    "plt.xlabel(x_unit)\n",
    "plt.ylabel(y_unit)\n",
    "plt.grid(True)\n",
    "plt.tight_layout()\n",
    "plt.show()"
   ]
  },
  {
   "cell_type": "code",
   "execution_count": null,
   "id": "703e975e-0bf2-42be-8d2c-75cd8885e8db",
   "metadata": {},
   "outputs": [],
   "source": [
    "def to_string(x):\n",
    "    decode_str = ''.join(chr(c[0]) for c in x)\n",
    "    return decode_str\n",
    "\n",
    "file_path = r\"C:\\AIEEE\\DATASET\\CARDRF\\LOS\\Test\\UAV\\BEEBEERUN\\FLYING\\BEEBEERUN_0000100002.mat\"\n",
    "file_path = file_path.replace(\"\\\\\", \"/\")\n",
    "print(file_path)\n",
    "f = h5py.File(file_path, 'r')\n",
    "fc = f['Channel_1']\n",
    "\n",
    "data = np.array(fc['Data'][:].flatten(), dtype=np.float64) #array([ -1644.,  -1208.,  -1032., ...,   6948., -24552., -32736.])\n",
    "numPoint = np.array(fc['NumPoints'][0][0], dtype=np.float64) # array(5000000.)\n",
    "numSegment = np.array(fc['NumSegments'][0][0], dtype=np.float64) # array(0.)\n",
    "waveFromType = np.array(to_string(fc['WaveformType'][:])) # array('NORMAL', dtype='<U6') \n",
    "\n",
    "# x\n",
    "XData = np.array(fc['XData'], dtype=np.float64) # array([0., 0.])\n",
    "XDisOrigin = np.array(fc['XDispOrigin'][0][0], dtype=np.float64) # array(-0.0005)\n",
    "XDisRange = np.array(fc['XDispRange'][0][0], dtype=np.float64) # array(0.001)\n",
    "XInc = np.array(fc['XInc'][0][0], dtype=np.float64) # array(5.e-11)\n",
    "XOrg= np.array(fc['XOrg'][0][0], dtype=np.float64) # array(-0.000125)\n",
    "XUnits = np.array(to_string(fc['XUnits'])) # array('Second', dtype='<U6')\n",
    "\n",
    "# y\n",
    "YDisOrigin = np.array(fc['YDispOrigin'][0][0], dtype=np.float64) # array(-0.0005) # array(0.)\n",
    "YDisRange = np.array(fc['YDispRange'][0][0], dtype=np.float64) # array(0.40000001)\n",
    "YInc = np.array(fc['YInc'][0][0], dtype=np.float64) # array(6.58411815e-06)\n",
    "YOrg= np.array(fc['YOrg'][0][0], dtype=np.float64) # array(0.00663679)\n",
    "YUnits = np.array(to_string(fc['YUnits'])) # array('Volt', dtype='<U4')\n",
    "\n",
    "\n",
    "#return 값들\n",
    "data = data.reshape(1, -1)\n",
    "data_ch = { 'NumPoints': [numPoint], 'NumSegments': [numSegment], 'WaveformType':[waveFromType]}\n",
    "data_xy = { 'XDisOrigin': [XDisOrigin], 'XDisRange': [XDisRange], 'XInc': [XInc], 'XOrg':[XOrg], 'XUnits': [XUnits], 'YDisOrigin':[YDisOrigin], 'YDisRange':[YDisRange], 'YInc': [YInc], 'YOrg':[YOrg], 'YUnits': [YUnits]}\n"
   ]
  },
  {
   "cell_type": "code",
   "execution_count": null,
   "id": "791e8862-2f4b-4f28-b181-926a22b9da33",
   "metadata": {},
   "outputs": [],
   "source": [
    "file_path = r\"C:\\AIEEE\\DATASET\\CARDRF\\LOS\\Test\\UAV\\BEEBEERUN\\FLYING\\BEEBEERUN_0000100002.mat\"\n",
    "file_path = file_path.replace(\"\\\\\", \"/\")\n",
    "print(file_path)\n",
    "f = h5py.File(file_path, 'r')\n",
    "ff = f['Frame']\n",
    "\n",
    "date = np.array(to_string(ff['Date'])) # array('29-Aug-2020  2:32:50', dtype='<U20')\n",
    "model = np.array(to_string(ff['Model'])) # array('MSOS604A', dtype='<U8')\n",
    "serial = np.array(to_string(ff['Serial']))\n",
    "frame = {'Date': [date], 'Model':[model], 'Serial':[serial]}"
   ]
  },
  {
   "cell_type": "code",
   "execution_count": 160,
   "id": "deec52a7-f865-4fdd-967f-e40ab89e79bc",
   "metadata": {},
   "outputs": [],
   "source": [
    "import numpy as np\n",
    "import pandas as pd\n",
    "import matplotlib.pyplot as plt\n",
    "import h5py\n",
    "\n",
    "def to_string(x):\n",
    "    decode_str = ''.join(chr(c[0]) for c in x)\n",
    "    return decode_str\n",
    "\n",
    "def h5pyToData(file_path):\n",
    "    with h5py.File(file_path, 'r') as f:\n",
    "        fc = f['Channel_1']\n",
    "        ff = f['Frame']\n",
    "\n",
    "        # Channel_1\n",
    "        data = np.array(fc['Data'][:].flatten(), dtype=np.float64) #array([ -1644.,  -1208.,  -1032., ...,   6948., -24552., -32736.])\n",
    "        numPoint = np.array(fc['NumPoints'][0][0], dtype=np.float64) # array(5000000.)\n",
    "        numSegment = np.array(fc['NumSegments'][0][0], dtype=np.float64) # array(0.)\n",
    "        waveFromType = np.array(to_string(fc['WaveformType'][:])) # array('NORMAL', dtype='<U6') \n",
    "        \n",
    "            # x\n",
    "        XData = np.array(fc['XData'], dtype=np.float64) # array([0., 0.])\n",
    "        XDisOrigin = np.array(fc['XDispOrigin'][0][0], dtype=np.float64) # array(-0.0005)\n",
    "        XDisRange = np.array(fc['XDispRange'][0][0], dtype=np.float64) # array(0.001)\n",
    "        XInc = np.array(fc['XInc'][0][0], dtype=np.float64) # array(5.e-11)\n",
    "        XOrg= np.array(fc['XOrg'][0][0], dtype=np.float64) # array(-0.000125)\n",
    "        XUnits = np.array(to_string(fc['XUnits'])) # array('Second', dtype='<U6')\n",
    "        \n",
    "            # y\n",
    "        YDisOrigin = np.array(fc['YDispOrigin'][0][0], dtype=np.float64) # array(-0.0005) # array(0.)\n",
    "        YDisRange = np.array(fc['YDispRange'][0][0], dtype=np.float64) # array(0.40000001)\n",
    "        YInc = np.array(fc['YInc'][0][0], dtype=np.float64) # array(6.58411815e-06)\n",
    "        YOrg= np.array(fc['YOrg'][0][0], dtype=np.float64) # array(0.00663679)\n",
    "        YUnits = np.array(to_string(fc['YUnits'])) # array('Volt', dtype='<U4')\n",
    "        \n",
    "        # Frame\n",
    "        date = np.array(to_string(ff['Date'])) # array('29-Aug-2020  2:32:50', dtype='<U20')\n",
    "        model = np.array(to_string(ff['Model'])) # array('MSOS604A', dtype='<U8')\n",
    "        serial = np.array(to_string(ff['Serial']))\n",
    "\n",
    "         # return 값들\n",
    "        data = data.reshape(1, -1)\n",
    "        data_ch = { 'NumPoints': [numPoint], 'NumSegments': [numSegment], 'WaveformType':[waveFromType]}\n",
    "        data_xy = { 'XDisOrigin': [XDisOrigin], 'XDisRange': [XDisRange], 'XInc': [XInc], 'XOrg':[XOrg], 'XUnits': [XUnits], 'YDisOrigin':[YDisOrigin], 'YDisRange':[YDisRange], 'YInc': [YInc], 'YOrg':[YOrg], 'YUnits': [YUnits]}\n",
    "        frame = {'Date': [date], 'Model':[model], 'Serial':[serial]}\n",
    "    return [data, data_ch, data_xy, frame]\n",
    "\n"
   ]
  },
  {
   "cell_type": "code",
   "execution_count": 161,
   "id": "893c0b44-bbca-4484-886e-c968fdce6aef",
   "metadata": {},
   "outputs": [
    {
     "name": "stdout",
     "output_type": "stream",
     "text": [
      "C:/AIEEE/DATASET/CARDRF/LOS/Test/UAV/BEEBEERUN/FLYING/BEEBEERUN_0000100002.mat\n"
     ]
    }
   ],
   "source": [
    "file_path = r\"C:\\AIEEE\\DATASET\\CARDRF\\LOS\\Test\\UAV\\BEEBEERUN\\FLYING\\BEEBEERUN_0000100002.mat\"\n",
    "file_path = file_path.replace(\"\\\\\", \"/\")\n",
    "print(file_path)\n",
    "\n",
    "data, data_ch, data_xy, frame = h5pyToData(file_path)\n",
    "df = pd.DataFrame(data)\n",
    "df_ch = pd.DataFrame(data_ch)\n",
    "df_xy = pd.DataFrame(data_xy)\n",
    "frame = pd.DataFrame(frame)"
   ]
  },
  {
   "cell_type": "code",
   "execution_count": 162,
   "id": "07225f5f-0fd5-43fa-ae1f-31d4cc6c6f4b",
   "metadata": {},
   "outputs": [
    {
     "data": {
      "text/html": [
       "<div>\n",
       "<style scoped>\n",
       "    .dataframe tbody tr th:only-of-type {\n",
       "        vertical-align: middle;\n",
       "    }\n",
       "\n",
       "    .dataframe tbody tr th {\n",
       "        vertical-align: top;\n",
       "    }\n",
       "\n",
       "    .dataframe thead th {\n",
       "        text-align: right;\n",
       "    }\n",
       "</style>\n",
       "<table border=\"1\" class=\"dataframe\">\n",
       "  <thead>\n",
       "    <tr style=\"text-align: right;\">\n",
       "      <th></th>\n",
       "      <th>0</th>\n",
       "      <th>1</th>\n",
       "      <th>2</th>\n",
       "      <th>3</th>\n",
       "      <th>4</th>\n",
       "      <th>5</th>\n",
       "      <th>6</th>\n",
       "      <th>7</th>\n",
       "      <th>8</th>\n",
       "      <th>9</th>\n",
       "      <th>...</th>\n",
       "      <th>90</th>\n",
       "      <th>91</th>\n",
       "      <th>92</th>\n",
       "      <th>93</th>\n",
       "      <th>94</th>\n",
       "      <th>95</th>\n",
       "      <th>96</th>\n",
       "      <th>97</th>\n",
       "      <th>98</th>\n",
       "      <th>99</th>\n",
       "    </tr>\n",
       "  </thead>\n",
       "  <tbody>\n",
       "    <tr>\n",
       "      <th>0</th>\n",
       "      <td>-1644.0</td>\n",
       "      <td>-1208.0</td>\n",
       "      <td>-1032.0</td>\n",
       "      <td>-924.0</td>\n",
       "      <td>-688.0</td>\n",
       "      <td>-828.0</td>\n",
       "      <td>-1328.0</td>\n",
       "      <td>-1564.0</td>\n",
       "      <td>-1532.0</td>\n",
       "      <td>-1464.0</td>\n",
       "      <td>...</td>\n",
       "      <td>-1524.0</td>\n",
       "      <td>-1052.0</td>\n",
       "      <td>-696.0</td>\n",
       "      <td>-532.0</td>\n",
       "      <td>-860.0</td>\n",
       "      <td>-1468.0</td>\n",
       "      <td>-1504.0</td>\n",
       "      <td>-1264.0</td>\n",
       "      <td>-1448.0</td>\n",
       "      <td>-1436.0</td>\n",
       "    </tr>\n",
       "  </tbody>\n",
       "</table>\n",
       "<p>1 rows × 100 columns</p>\n",
       "</div>"
      ],
      "text/plain": [
       "       0       1       2      3      4      5       6       7       8   \\\n",
       "0 -1644.0 -1208.0 -1032.0 -924.0 -688.0 -828.0 -1328.0 -1564.0 -1532.0   \n",
       "\n",
       "       9   ...      90      91     92     93     94      95      96      97  \\\n",
       "0 -1464.0  ... -1524.0 -1052.0 -696.0 -532.0 -860.0 -1468.0 -1504.0 -1264.0   \n",
       "\n",
       "       98      99  \n",
       "0 -1448.0 -1436.0  \n",
       "\n",
       "[1 rows x 100 columns]"
      ]
     },
     "execution_count": 162,
     "metadata": {},
     "output_type": "execute_result"
    }
   ],
   "source": [
    "df.iloc[:, :100]"
   ]
  },
  {
   "cell_type": "code",
   "execution_count": 163,
   "id": "d374831b-df56-41ec-99a1-2b403c309faf",
   "metadata": {},
   "outputs": [
    {
     "data": {
      "text/html": [
       "<div>\n",
       "<style scoped>\n",
       "    .dataframe tbody tr th:only-of-type {\n",
       "        vertical-align: middle;\n",
       "    }\n",
       "\n",
       "    .dataframe tbody tr th {\n",
       "        vertical-align: top;\n",
       "    }\n",
       "\n",
       "    .dataframe thead th {\n",
       "        text-align: right;\n",
       "    }\n",
       "</style>\n",
       "<table border=\"1\" class=\"dataframe\">\n",
       "  <thead>\n",
       "    <tr style=\"text-align: right;\">\n",
       "      <th></th>\n",
       "      <th>NumPoints</th>\n",
       "      <th>NumSegments</th>\n",
       "      <th>WaveformType</th>\n",
       "    </tr>\n",
       "  </thead>\n",
       "  <tbody>\n",
       "    <tr>\n",
       "      <th>0</th>\n",
       "      <td>5000000.0</td>\n",
       "      <td>0.0</td>\n",
       "      <td>NORMAL</td>\n",
       "    </tr>\n",
       "  </tbody>\n",
       "</table>\n",
       "</div>"
      ],
      "text/plain": [
       "   NumPoints NumSegments WaveformType\n",
       "0  5000000.0         0.0       NORMAL"
      ]
     },
     "execution_count": 163,
     "metadata": {},
     "output_type": "execute_result"
    }
   ],
   "source": [
    "df_ch"
   ]
  },
  {
   "cell_type": "code",
   "execution_count": 164,
   "id": "3900a792-482c-4937-b8fc-adb27a263e09",
   "metadata": {},
   "outputs": [
    {
     "data": {
      "text/html": [
       "<div>\n",
       "<style scoped>\n",
       "    .dataframe tbody tr th:only-of-type {\n",
       "        vertical-align: middle;\n",
       "    }\n",
       "\n",
       "    .dataframe tbody tr th {\n",
       "        vertical-align: top;\n",
       "    }\n",
       "\n",
       "    .dataframe thead th {\n",
       "        text-align: right;\n",
       "    }\n",
       "</style>\n",
       "<table border=\"1\" class=\"dataframe\">\n",
       "  <thead>\n",
       "    <tr style=\"text-align: right;\">\n",
       "      <th></th>\n",
       "      <th>XDisOrigin</th>\n",
       "      <th>XDisRange</th>\n",
       "      <th>XInc</th>\n",
       "      <th>XOrg</th>\n",
       "      <th>XUnits</th>\n",
       "      <th>YDisOrigin</th>\n",
       "      <th>YDisRange</th>\n",
       "      <th>YInc</th>\n",
       "      <th>YOrg</th>\n",
       "      <th>YUnits</th>\n",
       "    </tr>\n",
       "  </thead>\n",
       "  <tbody>\n",
       "    <tr>\n",
       "      <th>0</th>\n",
       "      <td>-0.0005</td>\n",
       "      <td>0.0010000000474974513</td>\n",
       "      <td>5e-11</td>\n",
       "      <td>-0.00012499998813211277</td>\n",
       "      <td>Second</td>\n",
       "      <td>0.0</td>\n",
       "      <td>0.4000000059604645</td>\n",
       "      <td>6.584118146999161e-06</td>\n",
       "      <td>0.006636791092175154</td>\n",
       "      <td>Volt</td>\n",
       "    </tr>\n",
       "  </tbody>\n",
       "</table>\n",
       "</div>"
      ],
      "text/plain": [
       "  XDisOrigin              XDisRange   XInc                     XOrg  XUnits  \\\n",
       "0    -0.0005  0.0010000000474974513  5e-11  -0.00012499998813211277  Second   \n",
       "\n",
       "  YDisOrigin           YDisRange                   YInc                  YOrg  \\\n",
       "0        0.0  0.4000000059604645  6.584118146999161e-06  0.006636791092175154   \n",
       "\n",
       "  YUnits  \n",
       "0   Volt  "
      ]
     },
     "execution_count": 164,
     "metadata": {},
     "output_type": "execute_result"
    }
   ],
   "source": [
    "df_xy"
   ]
  },
  {
   "cell_type": "code",
   "execution_count": 156,
   "id": "8cc24937-ce21-4844-9de0-e4d52e6b5d9c",
   "metadata": {},
   "outputs": [
    {
     "data": {
      "text/html": [
       "<div>\n",
       "<style scoped>\n",
       "    .dataframe tbody tr th:only-of-type {\n",
       "        vertical-align: middle;\n",
       "    }\n",
       "\n",
       "    .dataframe tbody tr th {\n",
       "        vertical-align: top;\n",
       "    }\n",
       "\n",
       "    .dataframe thead th {\n",
       "        text-align: right;\n",
       "    }\n",
       "</style>\n",
       "<table border=\"1\" class=\"dataframe\">\n",
       "  <thead>\n",
       "    <tr style=\"text-align: right;\">\n",
       "      <th></th>\n",
       "      <th>Date</th>\n",
       "      <th>Model</th>\n",
       "      <th>Serial</th>\n",
       "    </tr>\n",
       "  </thead>\n",
       "  <tbody>\n",
       "    <tr>\n",
       "      <th>0</th>\n",
       "      <td>29-Aug-2020  2:32:50</td>\n",
       "      <td>MSOS604A</td>\n",
       "      <td>MY55510227</td>\n",
       "    </tr>\n",
       "  </tbody>\n",
       "</table>\n",
       "</div>"
      ],
      "text/plain": [
       "                   Date     Model      Serial\n",
       "0  29-Aug-2020  2:32:50  MSOS604A  MY55510227"
      ]
     },
     "execution_count": 156,
     "metadata": {},
     "output_type": "execute_result"
    }
   ],
   "source": [
    "frame"
   ]
  }
 ],
 "metadata": {
  "kernelspec": {
   "display_name": "Python 3 (ipykernel)",
   "language": "python",
   "name": "python3"
  },
  "language_info": {
   "codemirror_mode": {
    "name": "ipython",
    "version": 3
   },
   "file_extension": ".py",
   "mimetype": "text/x-python",
   "name": "python",
   "nbconvert_exporter": "python",
   "pygments_lexer": "ipython3",
   "version": "3.10.16"
  }
 },
 "nbformat": 4,
 "nbformat_minor": 5
}
