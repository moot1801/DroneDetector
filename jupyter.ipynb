{
 "cells": [
  {
   "cell_type": "code",
   "execution_count": 1,
   "id": "4ea402c9",
   "metadata": {},
   "outputs": [],
   "source": [
    "import torch\n",
    "import torchvision\n",
    "import torch.nn as nn                           # All neural network modules, nn.Linear, nn.Conv2d, BatchNorm, Loss functions\n",
    "import torch.optim as optim                     # For all Optimization algorithms, SGD, Adam, etc.\n",
    "import torch.nn.functional as F                 # All functions that don't have any parameters\n",
    "from torch.utils.data import DataLoader         # Gives easier dataset managment and creates mini batches\n",
    "import torchvision.datasets as datasets         # Has standard datasets we can import in a nice way\n",
    "import torchvision.transforms as transforms"
   ]
  },
  {
   "cell_type": "code",
   "execution_count": null,
   "id": "f0817f55",
   "metadata": {},
   "outputs": [],
   "source": []
  }
 ],
 "metadata": {
  "kernelspec": {
   "display_name": "Python 3",
   "language": "python",
   "name": "python3"
  },
  "language_info": {
   "codemirror_mode": {
    "name": "ipython",
    "version": 3
   },
   "file_extension": ".py",
   "mimetype": "text/x-python",
   "name": "python",
   "nbconvert_exporter": "python",
   "pygments_lexer": "ipython3",
   "version": "3.6.8"
  }
 },
 "nbformat": 4,
 "nbformat_minor": 5
}
